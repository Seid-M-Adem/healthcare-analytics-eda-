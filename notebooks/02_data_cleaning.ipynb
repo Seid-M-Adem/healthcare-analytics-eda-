# 02_data_cleaning.ipynb

# Import necessary libraries
import pandas as pd
from src.data_processing import clean_data, save_data

# Load the dataset
df = pd.read_csv('../data/raw/healthcare_dataset.csv')

# Display missing values before cleaning
df.isnull().sum()

# Clean the data
df_cleaned = clean_data(df)

# Verify that missing values have been handled
df_cleaned.isnull().sum()

# Save the cleaned data
save_data(df_cleaned, '../data/processed/cleaned_data.csv')

# Check the cleaned data
df_cleaned.head()

# Summary statistics after cleaning
df_cleaned.describe()

# Display data types after cleaning
df_cleaned.dtypes

