# 01_data_exploration.ipynb

# Import necessary libraries
import pandas as pd

# Load the dataset
df = pd.read_csv('../data/raw/healthcare_dataset.csv')

# Display the first few rows of the dataset
df.head()

# Check the basic information of the dataset
df.info()

# Summary statistics of the dataset
df.describe()

# Check for missing values
df.isnull().sum()

# Display the data types of each column
df.dtypes

# Explore categorical features
categorical_columns = df.select_dtypes(include=['object']).columns
df[categorical_columns].nunique()

# Explore numerical features
numerical_columns = df.select_dtypes(include=['int64', 'float64']).columns
df[numerical_columns].hist(figsize=(12, 12), bins=15)

