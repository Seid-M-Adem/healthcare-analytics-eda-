# 03_data_visualization.ipynb

# Import necessary libraries
import pandas as pd
from src.visualization import plot_age_distribution, plot_correlation_heatmap

# Load the cleaned dataset
df_cleaned = pd.read_csv('../data/processed/cleaned_data.csv')

# Plot the distribution of ages
plot_age_distribution(df_cleaned)

# Plot the correlation heatmap of the dataset
plot_correlation_heatmap(df_cleaned)

# Additional Visualizations: Distribution of a categorical variable
import matplotlib.pyplot as plt
import seaborn as sns

plt.figure(figsize=(10, 6))
sns.countplot(x='gender', data=df_cleaned)
plt.title('Gender Distribution')
plt.show()

# Distribution of a numerical variable (e.g., BMI)
plt.figure(figsize=(10, 6))
sns.histplot(df_cleaned['BMI'], kde=True)
plt.title('BMI Distribution')
plt.xlabel('BMI')
plt.ylabel('Frequency')
plt.show()

# Explore relationships between variables (e.g., Age vs. BMI)
plt.figure(figsize=(10, 6))
sns.scatterplot(x='age', y='BMI', data=df_cleaned)
plt.title('Age vs. BMI')
plt.xlabel('Age')
plt.ylabel('BMI')
plt.show()

